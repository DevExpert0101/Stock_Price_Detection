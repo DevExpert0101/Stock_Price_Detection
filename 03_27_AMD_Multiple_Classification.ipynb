{
  "cells": [
    {
      "cell_type": "code",
      "source": [
        "%pip install tensorflow_addons"
      ],
      "metadata": {
        "id": "wy-1eVlE3Qf8",
        "colab": {
          "base_uri": "https://localhost:8080/"
        },
        "outputId": "c521403a-2f37-4526-dcbb-4fe254c8fa9c"
      },
      "execution_count": 1,
      "outputs": [
        {
          "output_type": "stream",
          "name": "stdout",
          "text": [
            "Looking in indexes: https://pypi.org/simple, https://us-python.pkg.dev/colab-wheels/public/simple/\n",
            "Collecting tensorflow_addons\n",
            "  Downloading tensorflow_addons-0.19.0-cp39-cp39-manylinux_2_17_x86_64.manylinux2014_x86_64.whl (1.1 MB)\n",
            "\u001b[2K     \u001b[90m━━━━━━━━━━━━━━━━━━━━━━━━━━━━━━━━━━━━━━━━\u001b[0m \u001b[32m1.1/1.1 MB\u001b[0m \u001b[31m17.3 MB/s\u001b[0m eta \u001b[36m0:00:00\u001b[0m\n",
            "\u001b[?25hCollecting typeguard>=2.7\n",
            "  Downloading typeguard-3.0.2-py3-none-any.whl (30 kB)\n",
            "Requirement already satisfied: packaging in /usr/local/lib/python3.9/dist-packages (from tensorflow_addons) (23.0)\n",
            "Requirement already satisfied: importlib-metadata>=3.6 in /usr/local/lib/python3.9/dist-packages (from typeguard>=2.7->tensorflow_addons) (6.1.0)\n",
            "Requirement already satisfied: typing-extensions>=4.4.0 in /usr/local/lib/python3.9/dist-packages (from typeguard>=2.7->tensorflow_addons) (4.5.0)\n",
            "Requirement already satisfied: zipp>=0.5 in /usr/local/lib/python3.9/dist-packages (from importlib-metadata>=3.6->typeguard>=2.7->tensorflow_addons) (3.15.0)\n",
            "Installing collected packages: typeguard, tensorflow_addons\n",
            "Successfully installed tensorflow_addons-0.19.0 typeguard-3.0.2\n"
          ]
        }
      ]
    },
    {
      "cell_type": "code",
      "execution_count": 2,
      "metadata": {
        "id": "N4B6RIUUk17t"
      },
      "outputs": [],
      "source": [
        "# import desired packages\n",
        "import tensorflow_addons as tfa\n",
        "import pandas as pd\n",
        "import seaborn as sb\n",
        "import numpy as np\n",
        "from matplotlib import pyplot as plt\n",
        "from tensorflow.keras.models import Sequential\n",
        "from tensorflow.keras.layers import Dense\n",
        "from tensorflow.keras.layers import LSTM\n",
        "from tensorflow.keras.layers import Dropout\n",
        "from tensorflow.keras.layers import Flatten\n",
        "from tensorflow.keras.layers import BatchNormalization\n",
        "from tensorflow.keras.layers import Input\n",
        "from tensorflow.keras.callbacks import EarlyStopping\n",
        "from tensorflow.keras.models import Model"
      ]
    },
    {
      "cell_type": "code",
      "execution_count": 3,
      "metadata": {
        "colab": {
          "base_uri": "https://localhost:8080/"
        },
        "id": "Jh4yyicXlH1A",
        "outputId": "6ec980f0-9d87-4c8f-ad2e-ef0318cb2298"
      },
      "outputs": [
        {
          "output_type": "stream",
          "name": "stdout",
          "text": [
            "Mounted at /content/drive\n"
          ]
        }
      ],
      "source": [
        "# Access the Google Drive to load the dataset\n",
        "from google.colab import drive\n",
        "drive.mount('/content/drive')"
      ]
    },
    {
      "cell_type": "code",
      "source": [
        "# Set the input parameters\n",
        "experimentNum = 26\n",
        "filePath = '/content/drive/MyDrive/03_10_Stock_Price_Prediction/DATASET/amd_1year.csv'\n",
        "# filePath = 'amd_1year.csv'\n",
        "inputFeatureList = ['open', 'high', 'low', 'close', 'volume', 'V1', 'V2', 'V3']\n",
        "(prevMin, predMin) = (120, 60)\n",
        "batch_size = 32\n",
        "epochs = 20\n",
        "diffClose = 1"
      ],
      "metadata": {
        "id": "CMq4JxZHLAC0"
      },
      "execution_count": 4,
      "outputs": []
    },
    {
      "cell_type": "code",
      "execution_count": 5,
      "metadata": {
        "id": "V8cQ87P8k17w"
      },
      "outputs": [],
      "source": [
        "# Load the dataset\n",
        "df = pd.read_csv(filePath)"
      ]
    },
    {
      "cell_type": "code",
      "source": [
        "# Rename the columns into sample format\n",
        "df = df.rename(columns={'t': 'time stamp', 'o': 'open', 'h': 'high', 'l': 'low', 'c': 'close', 'v': 'volume'})\n",
        "df.columns"
      ],
      "metadata": {
        "colab": {
          "base_uri": "https://localhost:8080/"
        },
        "id": "Ypc5DVSjyP9D",
        "outputId": "f290f960-0340-4792-bde5-e584e52640f9"
      },
      "execution_count": 6,
      "outputs": [
        {
          "output_type": "execute_result",
          "data": {
            "text/plain": [
              "Index(['symbol', 'time stamp', 'open', 'high', 'low', 'close', 'volume', 'vw',\n",
              "       'V1', 'V2', 'V3'],\n",
              "      dtype='object')"
            ]
          },
          "metadata": {},
          "execution_count": 6
        }
      ]
    },
    {
      "cell_type": "code",
      "execution_count": 7,
      "metadata": {
        "colab": {
          "base_uri": "https://localhost:8080/"
        },
        "id": "J646p9YUk17w",
        "outputId": "42b4611e-df30-4630-91be-0caceee0c07f"
      },
      "outputs": [
        {
          "output_type": "execute_result",
          "data": {
            "text/plain": [
              "Index(['symbol', 'time stamp', 'open', 'high', 'low', 'close', 'volume', 'vw',\n",
              "       'V1', 'V2', 'V3'],\n",
              "      dtype='object')"
            ]
          },
          "metadata": {},
          "execution_count": 7
        }
      ],
      "source": [
        "# Print the columns of the dataframe\n",
        "df.columns"
      ]
    },
    {
      "cell_type": "code",
      "execution_count": 8,
      "metadata": {
        "colab": {
          "base_uri": "https://localhost:8080/",
          "height": 487
        },
        "id": "6EdXruuXk17x",
        "outputId": "968aa2d8-3a66-4d23-eb65-71a7569ec719"
      },
      "outputs": [
        {
          "output_type": "stream",
          "name": "stderr",
          "text": [
            "<ipython-input-8-f71b9dbb4fc6>:3: SettingWithCopyWarning: \n",
            "A value is trying to be set on a copy of a slice from a DataFrame.\n",
            "Try using .loc[row_indexer,col_indexer] = value instead\n",
            "\n",
            "See the caveats in the documentation: https://pandas.pydata.org/pandas-docs/stable/user_guide/indexing.html#returning-a-view-versus-a-copy\n",
            "  df[['open', 'high', 'low', 'close']] = df[['open', 'high', 'low', \\\n"
          ]
        },
        {
          "output_type": "execute_result",
          "data": {
            "text/plain": [
              "           time stamp    open    high     low   close  volume    V1    V2   V3\n",
              "0 2022-03-22 04:01:00  115.75  115.75  115.75  115.75     318  0.00  0.00  0.0\n",
              "1 2022-03-22 04:04:00  115.89  115.90  115.89  115.90     482  0.01  0.01  0.0\n",
              "2 2022-03-22 04:05:00  115.99  115.99  115.99  115.99     664  0.00  0.00  0.0\n",
              "3 2022-03-22 04:08:00  116.30  116.30  116.26  116.26    3462  0.04 -0.04  0.0\n",
              "4 2022-03-22 04:09:00  116.26  116.35  116.26  116.32    1571  0.09  0.06  0.0\n",
              "5 2022-03-22 04:10:00  116.35  116.40  116.30  116.40    7401  0.10  0.05  0.0\n",
              "6 2022-03-22 04:11:00  116.35  116.35  116.35  116.35     493  0.00  0.00  0.0\n",
              "7 2022-03-22 04:15:00  116.48  116.48  116.48  116.48     673  0.00  0.00  0.0\n",
              "8 2022-03-22 04:16:00  116.46  116.46  116.46  116.46     754  0.00  0.00  0.0\n",
              "9 2022-03-22 04:19:00  116.47  116.47  116.47  116.47     133  0.00  0.00  0.0"
            ],
            "text/html": [
              "\n",
              "  <div id=\"df-8b74d521-59c3-4516-b381-e15d7fb24353\">\n",
              "    <div class=\"colab-df-container\">\n",
              "      <div>\n",
              "<style scoped>\n",
              "    .dataframe tbody tr th:only-of-type {\n",
              "        vertical-align: middle;\n",
              "    }\n",
              "\n",
              "    .dataframe tbody tr th {\n",
              "        vertical-align: top;\n",
              "    }\n",
              "\n",
              "    .dataframe thead th {\n",
              "        text-align: right;\n",
              "    }\n",
              "</style>\n",
              "<table border=\"1\" class=\"dataframe\">\n",
              "  <thead>\n",
              "    <tr style=\"text-align: right;\">\n",
              "      <th></th>\n",
              "      <th>time stamp</th>\n",
              "      <th>open</th>\n",
              "      <th>high</th>\n",
              "      <th>low</th>\n",
              "      <th>close</th>\n",
              "      <th>volume</th>\n",
              "      <th>V1</th>\n",
              "      <th>V2</th>\n",
              "      <th>V3</th>\n",
              "    </tr>\n",
              "  </thead>\n",
              "  <tbody>\n",
              "    <tr>\n",
              "      <th>0</th>\n",
              "      <td>2022-03-22 04:01:00</td>\n",
              "      <td>115.75</td>\n",
              "      <td>115.75</td>\n",
              "      <td>115.75</td>\n",
              "      <td>115.75</td>\n",
              "      <td>318</td>\n",
              "      <td>0.00</td>\n",
              "      <td>0.00</td>\n",
              "      <td>0.0</td>\n",
              "    </tr>\n",
              "    <tr>\n",
              "      <th>1</th>\n",
              "      <td>2022-03-22 04:04:00</td>\n",
              "      <td>115.89</td>\n",
              "      <td>115.90</td>\n",
              "      <td>115.89</td>\n",
              "      <td>115.90</td>\n",
              "      <td>482</td>\n",
              "      <td>0.01</td>\n",
              "      <td>0.01</td>\n",
              "      <td>0.0</td>\n",
              "    </tr>\n",
              "    <tr>\n",
              "      <th>2</th>\n",
              "      <td>2022-03-22 04:05:00</td>\n",
              "      <td>115.99</td>\n",
              "      <td>115.99</td>\n",
              "      <td>115.99</td>\n",
              "      <td>115.99</td>\n",
              "      <td>664</td>\n",
              "      <td>0.00</td>\n",
              "      <td>0.00</td>\n",
              "      <td>0.0</td>\n",
              "    </tr>\n",
              "    <tr>\n",
              "      <th>3</th>\n",
              "      <td>2022-03-22 04:08:00</td>\n",
              "      <td>116.30</td>\n",
              "      <td>116.30</td>\n",
              "      <td>116.26</td>\n",
              "      <td>116.26</td>\n",
              "      <td>3462</td>\n",
              "      <td>0.04</td>\n",
              "      <td>-0.04</td>\n",
              "      <td>0.0</td>\n",
              "    </tr>\n",
              "    <tr>\n",
              "      <th>4</th>\n",
              "      <td>2022-03-22 04:09:00</td>\n",
              "      <td>116.26</td>\n",
              "      <td>116.35</td>\n",
              "      <td>116.26</td>\n",
              "      <td>116.32</td>\n",
              "      <td>1571</td>\n",
              "      <td>0.09</td>\n",
              "      <td>0.06</td>\n",
              "      <td>0.0</td>\n",
              "    </tr>\n",
              "    <tr>\n",
              "      <th>5</th>\n",
              "      <td>2022-03-22 04:10:00</td>\n",
              "      <td>116.35</td>\n",
              "      <td>116.40</td>\n",
              "      <td>116.30</td>\n",
              "      <td>116.40</td>\n",
              "      <td>7401</td>\n",
              "      <td>0.10</td>\n",
              "      <td>0.05</td>\n",
              "      <td>0.0</td>\n",
              "    </tr>\n",
              "    <tr>\n",
              "      <th>6</th>\n",
              "      <td>2022-03-22 04:11:00</td>\n",
              "      <td>116.35</td>\n",
              "      <td>116.35</td>\n",
              "      <td>116.35</td>\n",
              "      <td>116.35</td>\n",
              "      <td>493</td>\n",
              "      <td>0.00</td>\n",
              "      <td>0.00</td>\n",
              "      <td>0.0</td>\n",
              "    </tr>\n",
              "    <tr>\n",
              "      <th>7</th>\n",
              "      <td>2022-03-22 04:15:00</td>\n",
              "      <td>116.48</td>\n",
              "      <td>116.48</td>\n",
              "      <td>116.48</td>\n",
              "      <td>116.48</td>\n",
              "      <td>673</td>\n",
              "      <td>0.00</td>\n",
              "      <td>0.00</td>\n",
              "      <td>0.0</td>\n",
              "    </tr>\n",
              "    <tr>\n",
              "      <th>8</th>\n",
              "      <td>2022-03-22 04:16:00</td>\n",
              "      <td>116.46</td>\n",
              "      <td>116.46</td>\n",
              "      <td>116.46</td>\n",
              "      <td>116.46</td>\n",
              "      <td>754</td>\n",
              "      <td>0.00</td>\n",
              "      <td>0.00</td>\n",
              "      <td>0.0</td>\n",
              "    </tr>\n",
              "    <tr>\n",
              "      <th>9</th>\n",
              "      <td>2022-03-22 04:19:00</td>\n",
              "      <td>116.47</td>\n",
              "      <td>116.47</td>\n",
              "      <td>116.47</td>\n",
              "      <td>116.47</td>\n",
              "      <td>133</td>\n",
              "      <td>0.00</td>\n",
              "      <td>0.00</td>\n",
              "      <td>0.0</td>\n",
              "    </tr>\n",
              "  </tbody>\n",
              "</table>\n",
              "</div>\n",
              "      <button class=\"colab-df-convert\" onclick=\"convertToInteractive('df-8b74d521-59c3-4516-b381-e15d7fb24353')\"\n",
              "              title=\"Convert this dataframe to an interactive table.\"\n",
              "              style=\"display:none;\">\n",
              "        \n",
              "  <svg xmlns=\"http://www.w3.org/2000/svg\" height=\"24px\"viewBox=\"0 0 24 24\"\n",
              "       width=\"24px\">\n",
              "    <path d=\"M0 0h24v24H0V0z\" fill=\"none\"/>\n",
              "    <path d=\"M18.56 5.44l.94 2.06.94-2.06 2.06-.94-2.06-.94-.94-2.06-.94 2.06-2.06.94zm-11 1L8.5 8.5l.94-2.06 2.06-.94-2.06-.94L8.5 2.5l-.94 2.06-2.06.94zm10 10l.94 2.06.94-2.06 2.06-.94-2.06-.94-.94-2.06-.94 2.06-2.06.94z\"/><path d=\"M17.41 7.96l-1.37-1.37c-.4-.4-.92-.59-1.43-.59-.52 0-1.04.2-1.43.59L10.3 9.45l-7.72 7.72c-.78.78-.78 2.05 0 2.83L4 21.41c.39.39.9.59 1.41.59.51 0 1.02-.2 1.41-.59l7.78-7.78 2.81-2.81c.8-.78.8-2.07 0-2.86zM5.41 20L4 18.59l7.72-7.72 1.47 1.35L5.41 20z\"/>\n",
              "  </svg>\n",
              "      </button>\n",
              "      \n",
              "  <style>\n",
              "    .colab-df-container {\n",
              "      display:flex;\n",
              "      flex-wrap:wrap;\n",
              "      gap: 12px;\n",
              "    }\n",
              "\n",
              "    .colab-df-convert {\n",
              "      background-color: #E8F0FE;\n",
              "      border: none;\n",
              "      border-radius: 50%;\n",
              "      cursor: pointer;\n",
              "      display: none;\n",
              "      fill: #1967D2;\n",
              "      height: 32px;\n",
              "      padding: 0 0 0 0;\n",
              "      width: 32px;\n",
              "    }\n",
              "\n",
              "    .colab-df-convert:hover {\n",
              "      background-color: #E2EBFA;\n",
              "      box-shadow: 0px 1px 2px rgba(60, 64, 67, 0.3), 0px 1px 3px 1px rgba(60, 64, 67, 0.15);\n",
              "      fill: #174EA6;\n",
              "    }\n",
              "\n",
              "    [theme=dark] .colab-df-convert {\n",
              "      background-color: #3B4455;\n",
              "      fill: #D2E3FC;\n",
              "    }\n",
              "\n",
              "    [theme=dark] .colab-df-convert:hover {\n",
              "      background-color: #434B5C;\n",
              "      box-shadow: 0px 1px 3px 1px rgba(0, 0, 0, 0.15);\n",
              "      filter: drop-shadow(0px 1px 2px rgba(0, 0, 0, 0.3));\n",
              "      fill: #FFFFFF;\n",
              "    }\n",
              "  </style>\n",
              "\n",
              "      <script>\n",
              "        const buttonEl =\n",
              "          document.querySelector('#df-8b74d521-59c3-4516-b381-e15d7fb24353 button.colab-df-convert');\n",
              "        buttonEl.style.display =\n",
              "          google.colab.kernel.accessAllowed ? 'block' : 'none';\n",
              "\n",
              "        async function convertToInteractive(key) {\n",
              "          const element = document.querySelector('#df-8b74d521-59c3-4516-b381-e15d7fb24353');\n",
              "          const dataTable =\n",
              "            await google.colab.kernel.invokeFunction('convertToInteractive',\n",
              "                                                     [key], {});\n",
              "          if (!dataTable) return;\n",
              "\n",
              "          const docLinkHtml = 'Like what you see? Visit the ' +\n",
              "            '<a target=\"_blank\" href=https://colab.research.google.com/notebooks/data_table.ipynb>data table notebook</a>'\n",
              "            + ' to learn more about interactive tables.';\n",
              "          element.innerHTML = '';\n",
              "          dataTable['output_type'] = 'display_data';\n",
              "          await google.colab.output.renderOutput(dataTable, element);\n",
              "          const docLink = document.createElement('div');\n",
              "          docLink.innerHTML = docLinkHtml;\n",
              "          element.appendChild(docLink);\n",
              "        }\n",
              "      </script>\n",
              "    </div>\n",
              "  </div>\n",
              "  "
            ]
          },
          "metadata": {},
          "execution_count": 8
        }
      ],
      "source": [
        "# Get the desired columns in the dataframe\n",
        "df = df[['time stamp', 'open', 'high', 'low', 'close', 'volume', 'V1', 'V2', 'V3']]\n",
        "df[['open', 'high', 'low', 'close']] = df[['open', 'high', 'low', \\\n",
        "                                           'close']].round(decimals=4)\n",
        "df['time stamp'] = pd.to_datetime(df['time stamp'])\n",
        "df.head(10)"
      ]
    },
    {
      "cell_type": "code",
      "execution_count": 9,
      "metadata": {
        "colab": {
          "base_uri": "https://localhost:8080/",
          "height": 265
        },
        "id": "jIBLcst3k17y",
        "outputId": "607d24e8-0be2-4dbb-b246-b3baadb15e67"
      },
      "outputs": [
        {
          "output_type": "display_data",
          "data": {
            "text/plain": [
              "<Figure size 432x288 with 1 Axes>"
            ],
            "image/png": "[encoded data removed]"
          },
          "metadata": {
            "needs_background": "light"
          }
        }
      ],
      "source": [
        "# Display the stock of open, high, low, close\n",
        "sb.lineplot(data = df[['open', 'high', 'low', 'close']])\n",
        "plt.show()"
      ]
    },
    {
      "cell_type": "code",
      "execution_count": 10,
      "metadata": {
        "colab": {
          "base_uri": "https://localhost:8080/",
          "height": 276
        },
        "id": "HSyVUz1Nk17y",
        "outputId": "706de863-4297-416e-8a1b-c453144ee1ac"
      },
      "outputs": [
        {
          "output_type": "display_data",
          "data": {
            "text/plain": [
              "<Figure size 432x288 with 1 Axes>"
            ],
            "image/png": "[encoded data removed]"
          },
          "metadata": {
            "needs_background": "light"
          }
        }
      ],
      "source": [
        "# Display the stock of volume\n",
        "sb.lineplot(data = df['volume'])\n",
        "plt.show()"
      ]
    },
    {
      "cell_type": "code",
      "execution_count": 11,
      "metadata": {
        "colab": {
          "base_uri": "https://localhost:8080/",
          "height": 364
        },
        "id": "UU_H5O53k17z",
        "outputId": "22744dfb-ab8b-470e-9098-9ecc931257f9"
      },
      "outputs": [
        {
          "output_type": "execute_result",
          "data": {
            "text/plain": [
              "                open           high            low          close  \\\n",
              "count  186512.000000  186512.000000  186512.000000  186512.000000   \n",
              "mean       82.517099      82.573712      82.460352      82.516768   \n",
              "std        14.681847      14.691591      14.671496      14.681501   \n",
              "min        54.613800      54.925000      54.570000      54.615000   \n",
              "25%        71.502875      71.540000      71.471325      71.503750   \n",
              "50%        82.200000      82.250000      82.160100      82.200000   \n",
              "75%        93.489925      93.540000      93.400000      93.483350   \n",
              "max       125.519900     125.670000     125.210000     125.515000   \n",
              "\n",
              "             volume             V1             V2            V3  \n",
              "count  1.865120e+05  186512.000000  186512.000000  1.865120e+05  \n",
              "mean   1.079922e+05       0.113360      -0.000331 -2.718285e+04  \n",
              "std    1.473396e+05       0.144418       0.106110  1.859003e+05  \n",
              "min    1.000000e+02       0.000000      -5.610000 -1.396814e+06  \n",
              "25%    1.403000e+03       0.020000      -0.034300 -1.179404e+05  \n",
              "50%    5.732750e+04       0.085000       0.000000 -1.025750e+03  \n",
              "75%    1.682345e+05       0.150000       0.030200  5.436538e+04  \n",
              "max    3.677038e+06       6.280000       3.223800  3.324818e+06  "
            ],
            "text/html": [
              "\n",
              "  <div id=\"df-7a1e7f1e-a2ba-4622-acde-99ab2ae55763\">\n",
              "    <div class=\"colab-df-container\">\n",
              "      <div>\n",
              "<style scoped>\n",
              "    .dataframe tbody tr th:only-of-type {\n",
              "        vertical-align: middle;\n",
              "    }\n",
              "\n",
              "    .dataframe tbody tr th {\n",
              "        vertical-align: top;\n",
              "    }\n",
              "\n",
              "    .dataframe thead th {\n",
              "        text-align: right;\n",
              "    }\n",
              "</style>\n",
              "<table border=\"1\" class=\"dataframe\">\n",
              "  <thead>\n",
              "    <tr style=\"text-align: right;\">\n",
              "      <th></th>\n",
              "      <th>open</th>\n",
              "      <th>high</th>\n",
              "      <th>low</th>\n",
              "      <th>close</th>\n",
              "      <th>volume</th>\n",
              "      <th>V1</th>\n",
              "      <th>V2</th>\n",
              "      <th>V3</th>\n",
              "    </tr>\n",
              "  </thead>\n",
              "  <tbody>\n",
              "    <tr>\n",
              "      <th>count</th>\n",
              "      <td>186512.000000</td>\n",
              "      <td>186512.000000</td>\n",
              "      <td>186512.000000</td>\n",
              "      <td>186512.000000</td>\n",
              "      <td>1.865120e+05</td>\n",
              "      <td>186512.000000</td>\n",
              "      <td>186512.000000</td>\n",
              "      <td>1.865120e+05</td>\n",
              "    </tr>\n",
              "    <tr>\n",
              "      <th>mean</th>\n",
              "      <td>82.517099</td>\n",
              "      <td>82.573712</td>\n",
              "      <td>82.460352</td>\n",
              "      <td>82.516768</td>\n",
              "      <td>1.079922e+05</td>\n",
              "      <td>0.113360</td>\n",
              "      <td>-0.000331</td>\n",
              "      <td>-2.718285e+04</td>\n",
              "    </tr>\n",
              "    <tr>\n",
              "      <th>std</th>\n",
              "      <td>14.681847</td>\n",
              "      <td>14.691591</td>\n",
              "      <td>14.671496</td>\n",
              "      <td>14.681501</td>\n",
              "      <td>1.473396e+05</td>\n",
              "      <td>0.144418</td>\n",
              "      <td>0.106110</td>\n",
              "      <td>1.859003e+05</td>\n",
              "    </tr>\n",
              "    <tr>\n",
              "      <th>min</th>\n",
              "      <td>54.613800</td>\n",
              "      <td>54.925000</td>\n",
              "      <td>54.570000</td>\n",
              "      <td>54.615000</td>\n",
              "      <td>1.000000e+02</td>\n",
              "      <td>0.000000</td>\n",
              "      <td>-5.610000</td>\n",
              "      <td>-1.396814e+06</td>\n",
              "    </tr>\n",
              "    <tr>\n",
              "      <th>25%</th>\n",
              "      <td>71.502875</td>\n",
              "      <td>71.540000</td>\n",
              "      <td>71.471325</td>\n",
              "      <td>71.503750</td>\n",
              "      <td>1.403000e+03</td>\n",
              "      <td>0.020000</td>\n",
              "      <td>-0.034300</td>\n",
              "      <td>-1.179404e+05</td>\n",
              "    </tr>\n",
              "    <tr>\n",
              "      <th>50%</th>\n",
              "      <td>82.200000</td>\n",
              "      <td>82.250000</td>\n",
              "      <td>82.160100</td>\n",
              "      <td>82.200000</td>\n",
              "      <td>5.732750e+04</td>\n",
              "      <td>0.085000</td>\n",
              "      <td>0.000000</td>\n",
              "      <td>-1.025750e+03</td>\n",
              "    </tr>\n",
              "    <tr>\n",
              "      <th>75%</th>\n",
              "      <td>93.489925</td>\n",
              "      <td>93.540000</td>\n",
              "      <td>93.400000</td>\n",
              "      <td>93.483350</td>\n",
              "      <td>1.682345e+05</td>\n",
              "      <td>0.150000</td>\n",
              "      <td>0.030200</td>\n",
              "      <td>5.436538e+04</td>\n",
              "    </tr>\n",
              "    <tr>\n",
              "      <th>max</th>\n",
              "      <td>125.519900</td>\n",
              "      <td>125.670000</td>\n",
              "      <td>125.210000</td>\n",
              "      <td>125.515000</td>\n",
              "      <td>3.677038e+06</td>\n",
              "      <td>6.280000</td>\n",
              "      <td>3.223800</td>\n",
              "      <td>3.324818e+06</td>\n",
              "    </tr>\n",
              "  </tbody>\n",
              "</table>\n",
              "</div>\n",
              "      <button class=\"colab-df-convert\" onclick=\"convertToInteractive('df-7a1e7f1e-a2ba-4622-acde-99ab2ae55763')\"\n",
              "              title=\"Convert this dataframe to an interactive table.\"\n",
              "              style=\"display:none;\">\n",
              "        \n",
              "  <svg xmlns=\"http://www.w3.org/2000/svg\" height=\"24px\"viewBox=\"0 0 24 24\"\n",
              "       width=\"24px\">\n",
              "    <path d=\"M0 0h24v24H0V0z\" fill=\"none\"/>\n",
              "    <path d=\"M18.56 5.44l.94 2.06.94-2.06 2.06-.94-2.06-.94-.94-2.06-.94 2.06-2.06.94zm-11 1L8.5 8.5l.94-2.06 2.06-.94-2.06-.94L8.5 2.5l-.94 2.06-2.06.94zm10 10l.94 2.06.94-2.06 2.06-.94-2.06-.94-.94-2.06-.94 2.06-2.06.94z\"/><path d=\"M17.41 7.96l-1.37-1.37c-.4-.4-.92-.59-1.43-.59-.52 0-1.04.2-1.43.59L10.3 9.45l-7.72 7.72c-.78.78-.78 2.05 0 2.83L4 21.41c.39.39.9.59 1.41.59.51 0 1.02-.2 1.41-.59l7.78-7.78 2.81-2.81c.8-.78.8-2.07 0-2.86zM5.41 20L4 18.59l7.72-7.72 1.47 1.35L5.41 20z\"/>\n",
              "  </svg>\n",
              "      </button>\n",
              "      \n",
              "  <style>\n",
              "    .colab-df-container {\n",
              "      display:flex;\n",
              "      flex-wrap:wrap;\n",
              "      gap: 12px;\n",
              "    }\n",
              "\n",
              "    .colab-df-convert {\n",
              "      background-color: #E8F0FE;\n",
              "      border: none;\n",
              "      border-radius: 50%;\n",
              "      cursor: pointer;\n",
              "      display: none;\n",
              "      fill: #1967D2;\n",
              "      height: 32px;\n",
              "      padding: 0 0 0 0;\n",
              "      width: 32px;\n",
              "    }\n",
              "\n",
              "    .colab-df-convert:hover {\n",
              "      background-color: #E2EBFA;\n",
              "      box-shadow: 0px 1px 2px rgba(60, 64, 67, 0.3), 0px 1px 3px 1px rgba(60, 64, 67, 0.15);\n",
              "      fill: #174EA6;\n",
              "    }\n",
              "\n",
              "    [theme=dark] .colab-df-convert {\n",
              "      background-color: #3B4455;\n",
              "      fill: #D2E3FC;\n",
              "    }\n",
              "\n",
              "    [theme=dark] .colab-df-convert:hover {\n",
              "      background-color: #434B5C;\n",
              "      box-shadow: 0px 1px 3px 1px rgba(0, 0, 0, 0.15);\n",
              "      filter: drop-shadow(0px 1px 2px rgba(0, 0, 0, 0.3));\n",
              "      fill: #FFFFFF;\n",
              "    }\n",
              "  </style>\n",
              "\n",
              "      <script>\n",
              "        const buttonEl =\n",
              "          document.querySelector('#df-7a1e7f1e-a2ba-4622-acde-99ab2ae55763 button.colab-df-convert');\n",
              "        buttonEl.style.display =\n",
              "          google.colab.kernel.accessAllowed ? 'block' : 'none';\n",
              "\n",
              "        async function convertToInteractive(key) {\n",
              "          const element = document.querySelector('#df-7a1e7f1e-a2ba-4622-acde-99ab2ae55763');\n",
              "          const dataTable =\n",
              "            await google.colab.kernel.invokeFunction('convertToInteractive',\n",
              "                                                     [key], {});\n",
              "          if (!dataTable) return;\n",
              "\n",
              "          const docLinkHtml = 'Like what you see? Visit the ' +\n",
              "            '<a target=\"_blank\" href=https://colab.research.google.com/notebooks/data_table.ipynb>data table notebook</a>'\n",
              "            + ' to learn more about interactive tables.';\n",
              "          element.innerHTML = '';\n",
              "          dataTable['output_type'] = 'display_data';\n",
              "          await google.colab.output.renderOutput(dataTable, element);\n",
              "          const docLink = document.createElement('div');\n",
              "          docLink.innerHTML = docLinkHtml;\n",
              "          element.appendChild(docLink);\n",
              "        }\n",
              "      </script>\n",
              "    </div>\n",
              "  </div>\n",
              "  "
            ]
          },
          "metadata": {},
          "execution_count": 11
        }
      ],
      "source": [
        "# Show the statistics of the data\n",
        "df.describe()"
      ]
    },
    {
      "cell_type": "code",
      "execution_count": 12,
      "metadata": {
        "colab": {
          "base_uri": "https://localhost:8080/"
        },
        "id": "BPTZe2Z7k17z",
        "outputId": "ad66dd6d-07b2-4b40-d971-320f6aed684b"
      },
      "outputs": [
        {
          "output_type": "stream",
          "name": "stdout",
          "text": [
            "111907 37302 37302\n"
          ]
        }
      ],
      "source": [
        "# Split the dataframe into training and test dataset\n",
        "df_train = df[0:int(len(df) * 0.6)]\n",
        "df_val = df[int(len(df) * 0.6):int(len(df) * 0.8)]\n",
        "df_test = df[int(len(df) * 0.8):-1]\n",
        "print(len(df_train), len(df_val), len(df_test))"
      ]
    },
    {
      "cell_type": "code",
      "execution_count": 13,
      "metadata": {
        "colab": {
          "base_uri": "https://localhost:8080/"
        },
        "id": "HLJ63Hnkk170",
        "outputId": "8233fb76-42bd-4a45-eb6a-ae01be5e7b43"
      },
      "outputs": [
        {
          "output_type": "stream",
          "name": "stdout",
          "text": [
            "                time stamp   open   high    low  close  volume    V1    V2  \\\n",
            "111902 2022-10-19 06:50:00  57.70  57.76  57.70  57.76     310  0.06  0.06   \n",
            "111903 2022-10-19 07:00:00  57.88  57.89  57.87  57.89    3434  0.02  0.01   \n",
            "111904 2022-10-19 07:01:00  57.89  57.89  57.86  57.87    1457  0.03 -0.02   \n",
            "111905 2022-10-19 07:02:00  57.90  57.92  57.90  57.92     865  0.02  0.02   \n",
            "111906 2022-10-19 07:05:00  57.97  57.97  57.97  57.97    1360  0.00  0.00   \n",
            "\n",
            "              V3  \n",
            "111902 -399544.3  \n",
            "111903 -375867.0  \n",
            "111904 -361695.4  \n",
            "111905 -361307.5  \n",
            "111906 -366006.7  \n",
            "                time stamp    open    high      low    close  volume      V1  \\\n",
            "149204 2023-01-05 12:03:00  63.420  63.425  63.3645  63.4000   66752  0.0605   \n",
            "149205 2023-01-05 12:04:00  63.400  63.420  63.3700  63.3799   50165  0.0500   \n",
            "149206 2023-01-05 12:05:00  63.365  63.375  63.3300  63.3550   46446  0.0450   \n",
            "149207 2023-01-05 12:06:00  63.360  63.490  63.3500  63.4300   85107  0.1400   \n",
            "149208 2023-01-05 12:07:00  63.430  63.725  63.4300  63.6600  204407  0.2950   \n",
            "\n",
            "            V2        V3  \n",
            "149204 -0.0200 -191291.4  \n",
            "149205 -0.0201 -211386.8  \n",
            "149206 -0.0100 -215092.6  \n",
            "149207  0.0700 -160581.0  \n",
            "149208  0.2300  -32702.2  \n",
            "                time stamp   open   high    low  close  volume    V1    V2  \\\n",
            "186506 2023-03-21 19:54:00  95.37  95.37  95.33  95.33    1483  0.04 -0.04   \n",
            "186507 2023-03-21 19:55:00  95.30  95.30  95.30  95.30     512  0.00  0.00   \n",
            "186508 2023-03-21 19:56:00  95.35  95.35  95.35  95.35     480  0.00  0.00   \n",
            "186509 2023-03-21 19:57:00  95.35  95.40  95.35  95.40    1295  0.05  0.05   \n",
            "186510 2023-03-21 19:58:00  95.35  95.35  95.30  95.30    5704  0.05 -0.05   \n",
            "\n",
            "            V3  \n",
            "186506  -501.1  \n",
            "186507 -1442.9  \n",
            "186508 -1515.0  \n",
            "186509  -781.3  \n",
            "186510  3501.6  \n"
          ]
        }
      ],
      "source": [
        "# Print the tail of training, validation and test datasets\n",
        "print(df_train.tail())\n",
        "print(df_val.tail())\n",
        "print(df_test.tail())"
      ]
    },
    {
      "cell_type": "code",
      "execution_count": 14,
      "metadata": {
        "id": "pUqBhkZ7k170"
      },
      "outputs": [],
      "source": [
        "# Normalize the dataframe\n",
        "from sklearn.preprocessing import MinMaxScaler\n",
        "\n",
        "scaler = MinMaxScaler()\n",
        "training = scaler.fit_transform(df_train[inputFeatureList])\n",
        "validation = scaler.transform(df_val[inputFeatureList])\n",
        "test = scaler.transform(df_test[inputFeatureList])"
      ]
    },
    {
      "cell_type": "code",
      "source": [
        "# Save the Scaler\n",
        "import joblib\n",
        "scaler_filename = '/content/drive/MyDrive/03_10_Stock_Price_Prediction/RESULT/scaler_amd1_year_03_27' + \\\n",
        "          str(experimentNum) + '.save'\n",
        "# scaler_filename = str(experimentNum) + '.save'\n",
        "joblib.dump(scaler, scaler_filename)"
      ],
      "metadata": {
        "colab": {
          "base_uri": "https://localhost:8080/"
        },
        "id": "rB3tghV0yrIT",
        "outputId": "fc4f877f-cd98-4f5f-b933-cb2c65f93309"
      },
      "execution_count": 15,
      "outputs": [
        {
          "output_type": "execute_result",
          "data": {
            "text/plain": [
              "['/content/drive/MyDrive/03_10_Stock_Price_Prediction/RESULT/scaler_amd1_year_03_2726.save']"
            ]
          },
          "metadata": {},
          "execution_count": 15
        }
      ]
    },
    {
      "cell_type": "code",
      "execution_count": 16,
      "metadata": {
        "colab": {
          "base_uri": "https://localhost:8080/"
        },
        "id": "L_Rh8c1xk171",
        "outputId": "5687884b-0364-4e53-b38c-eb62434a306c"
      },
      "outputs": [
        {
          "output_type": "stream",
          "name": "stdout",
          "text": [
            "(111907, 8) (37302, 8) (37302, 8)\n"
          ]
        }
      ],
      "source": [
        "print(training.shape, validation.shape, test.shape)"
      ]
    },
    {
      "cell_type": "code",
      "execution_count": 17,
      "metadata": {
        "id": "N95-rplWk171"
      },
      "outputs": [],
      "source": [
        "\"\"\"Define the function to create \n",
        "the input and output dataset for the training, validation and test\"\"\"\n",
        "def create_dataset(transformed, df, prevMin, predMin):\n",
        "\n",
        "    # Initialize the lists\n",
        "    Xs, ys = [], []\n",
        "    diffCloseList = [0.5, 0.5, 1]\n",
        "    windowList = [15, 30, 60]\n",
        "\n",
        "    # Iterate all the values in the dataframe\n",
        "    for i in range(len(transformed) - prevMin - predMin):\n",
        "        vx, vy = [], []\n",
        "\n",
        "        # Append all the x items into vx\n",
        "        for j in range(prevMin):\n",
        "            vx.append(transformed[i + j])\n",
        "        \n",
        "        # Calculate the difference of closes between 15min, 30min, 45min, 60min and append items into vy\n",
        "        for j in range(3):\n",
        "            # window = 15 * (j + 1)\n",
        "            window = windowList[j]\n",
        "            diff = df['close'].iloc[i + window] - df['close'].iloc[i]\n",
        "            if diff > diffCloseList[j]:\n",
        "                vy.append(2)\n",
        "            elif diff < -diffCloseList[j]:\n",
        "                vy.append(0)\n",
        "            else:\n",
        "                vy.append(1)\n",
        "\n",
        "        # Convert vx, vy into numpy arrays\n",
        "        vx = np.array(vx)\n",
        "        vy = np.array(vy)\n",
        "        vx = vx.reshape(-1, 1)\n",
        "        vy = vy.reshape(-1, 1)\n",
        "        Xs.append(vx)\n",
        "        ys.append(vy)\n",
        "    return np.array(Xs), np.array(ys)"
      ]
    },
    {
      "cell_type": "code",
      "execution_count": 18,
      "metadata": {
        "id": "kV-urY_Zk171"
      },
      "outputs": [],
      "source": [
        "# Create the input and output of the models; prevMin=120m, predMin=[15, 30, 60]\n",
        "train_X, train_y = create_dataset(training, df_train, prevMin, predMin)\n",
        "val_X, val_y = create_dataset(validation, df_val, prevMin, predMin)\n",
        "test_X, test_y = create_dataset(test, df_test, prevMin, predMin)"
      ]
    },
    {
      "cell_type": "code",
      "source": [
        "train_y.shape"
      ],
      "metadata": {
        "colab": {
          "base_uri": "https://localhost:8080/"
        },
        "id": "W32w8HFjobdE",
        "outputId": "14f9588e-85b3-49db-d0e8-067739e09b74"
      },
      "execution_count": 19,
      "outputs": [
        {
          "output_type": "execute_result",
          "data": {
            "text/plain": [
              "(111727, 3, 1)"
            ]
          },
          "metadata": {},
          "execution_count": 19
        }
      ]
    },
    {
      "cell_type": "code",
      "source": [
        "df_train.shape, df_val.shape, df_test.shape"
      ],
      "metadata": {
        "colab": {
          "base_uri": "https://localhost:8080/"
        },
        "id": "Dw3KTpPNugEL",
        "outputId": "7c876985-04c0-46fc-bdf8-aa26333a608c"
      },
      "execution_count": 20,
      "outputs": [
        {
          "output_type": "execute_result",
          "data": {
            "text/plain": [
              "((111907, 9), (37302, 9), (37302, 9))"
            ]
          },
          "metadata": {},
          "execution_count": 20
        }
      ]
    },
    {
      "cell_type": "code",
      "source": [
        "sum(train_y == 2), sum(train_y == 1), sum(train_y == 0)"
      ],
      "metadata": {
        "colab": {
          "base_uri": "https://localhost:8080/"
        },
        "id": "JO9AfIDUtnVL",
        "outputId": "a3c621b4-0e54-486a-b6fb-986d01609be9"
      },
      "execution_count": 21,
      "outputs": [
        {
          "output_type": "execute_result",
          "data": {
            "text/plain": [
              "(array([[ 8794],\n",
              "        [15186],\n",
              "        [ 9668]]), array([[93211],\n",
              "        [79993],\n",
              "        [90481]]), array([[ 9722],\n",
              "        [16548],\n",
              "        [11578]]))"
            ]
          },
          "metadata": {},
          "execution_count": 21
        }
      ]
    },
    {
      "cell_type": "code",
      "source": [
        "from keras.utils import to_categorical\n",
        "train_labels = to_categorical(train_y)\n",
        "val_labels = to_categorical(val_y)\n",
        "test_labels = to_categorical(test_y)"
      ],
      "metadata": {
        "id": "Q0QJo2wR0196"
      },
      "execution_count": 22,
      "outputs": []
    },
    {
      "cell_type": "code",
      "source": [
        "print('Number of increase: ', sum(train_labels[:, 2] == 1))\n",
        "print('Number of decrease: ', sum(train_labels[:, 0] == 1))\n",
        "print('Number of const', sum(train_labels[:, 1] == 1))"
      ],
      "metadata": {
        "colab": {
          "base_uri": "https://localhost:8080/"
        },
        "id": "NTzSBnsB1LIg",
        "outputId": "5c56329c-c8bc-4d88-9ac5-17974e6902dc"
      },
      "execution_count": 23,
      "outputs": [
        {
          "output_type": "stream",
          "name": "stdout",
          "text": [
            "Number of increase:  [11578 90481  9668]\n",
            "Number of decrease:  [ 9722 93211  8794]\n",
            "Number of const [16548 79993 15186]\n"
          ]
        }
      ]
    },
    {
      "cell_type": "code",
      "execution_count": 24,
      "metadata": {
        "colab": {
          "base_uri": "https://localhost:8080/"
        },
        "id": "gblIrB9lk172",
        "outputId": "24e2d476-5804-4f17-af9f-9c9b456b57a4"
      },
      "outputs": [
        {
          "output_type": "stream",
          "name": "stdout",
          "text": [
            "(111727, 960, 1) (111727, 3, 3)\n",
            "(37122, 960, 1) (37122, 3, 3)\n",
            "(37122, 960, 1) (37122, 3, 3)\n"
          ]
        }
      ],
      "source": [
        "print(train_X.shape, train_labels.shape)\n",
        "print(val_X.shape, val_labels.shape)\n",
        "print(test_X.shape, test_labels.shape)"
      ]
    },
    {
      "cell_type": "code",
      "source": [
        "# Define the callback\n",
        "callback = EarlyStopping(monitor='loss', patience=3)\n",
        "f1 = tfa.metrics.F1Score(num_classes=3, average=None)"
      ],
      "metadata": {
        "id": "J0rMeI4ANnGD"
      },
      "execution_count": 25,
      "outputs": []
    },
    {
      "cell_type": "code",
      "source": [
        "class MultipleOutputModel():\n",
        "    \"\"\"Used to generate multi-output model\"\"\"\n",
        "\n",
        "    def make_default_hidden_layers(self, inputs):\n",
        "        \"\"\"Used to generate a default set of hidden layers\"\"\"\n",
        "        x = LSTM(units=100, return_sequences=True)(inputs)\n",
        "        x = Dropout(0.2)(x)\n",
        "        x = LSTM(units=50, return_sequences=True)(x)\n",
        "        x = Dropout(0.2)(x)\n",
        "        return x\n",
        "    \n",
        "    def build_branch1(self, inputs):\n",
        "        \"\"\"Used to build the branch layers\"\"\"\n",
        "        x = self.make_default_hidden_layers(inputs)\n",
        "        \n",
        "        x = Flatten()(x)\n",
        "        x = Dense(20, activation='relu')(x)\n",
        "        x = BatchNormalization()(x)\n",
        "        x = Dense(3, activation='softmax', name='branch1_output')(x)\n",
        "        return x\n",
        "    \n",
        "    def build_branch2(self, inputs):\n",
        "        \"\"\"Used to build the branch layers\"\"\"\n",
        "        x = self.make_default_hidden_layers(inputs)\n",
        "        \n",
        "        x = Flatten()(x)\n",
        "        x = Dense(20, activation='relu')(x)\n",
        "        x = BatchNormalization()(x)\n",
        "        x = Dense(3, activation='softmax', name='branch2_output')(x)\n",
        "        return x\n",
        "\n",
        "    def build_branch3(self, inputs):\n",
        "        \"\"\"Used to build the branch layers\"\"\"\n",
        "        x = self.make_default_hidden_layers(inputs)\n",
        "        \n",
        "        x = Flatten()(x)\n",
        "        x = Dense(20, activation='relu')(x)\n",
        "        x = BatchNormalization()(x)\n",
        "        x = Dense(3, activation='softmax', name='branch3_output')(x)\n",
        "        return x\n",
        "\n",
        "    # def build_branch4(self, inputs):\n",
        "    #     \"\"\"Used to build the branch layers\"\"\"\n",
        "    #     x = self.make_default_hidden_layers(inputs)\n",
        "        \n",
        "    #     x = Flatten()(x)\n",
        "    #     x = Dense(20, activation='relu')(x)\n",
        "    #     x = BatchNormalization()(x)\n",
        "    #     x = Dense(3, activation='softmax', name='branch4_output')(x)\n",
        "    #     return x\n",
        "    \n",
        "    def assemble_full_model(self, input_shape):\n",
        "        \"\"\"Used to assemble all the branches to build the whole model\"\"\"\n",
        "        # input_shape = train_X.shape[1]\n",
        "        inputs = Input(shape=input_shape)\n",
        "        branchList = []\n",
        "        branch1 = self.build_branch1(inputs)\n",
        "        branch2 = self.build_branch2(inputs)\n",
        "        branch3 = self.build_branch3(inputs)\n",
        "        # branch4 = self.build_branch4(inputs)\n",
        "        model = Model(inputs=inputs, outputs=[branch1, branch2, branch3])\n",
        "        return model\n",
        "\n",
        "model = MultipleOutputModel().assemble_full_model(input_shape=(train_X.shape[1], 1))\n",
        "model.compile(optimizer='adam', loss={'branch1_output': 'categorical_crossentropy', \n",
        "                                      'branch2_output': 'categorical_crossentropy',\n",
        "                                      'branch3_output': 'categorical_crossentropy'}, \\\n",
        "                                metrics={\n",
        "                                    'branch1_output': ['accuracy', 'Precision', 'Recall', 'AUC'],\n",
        "                                    'branch2_output': ['accuracy', 'Precision', 'Recall', 'AUC'],\n",
        "                                    'branch3_output': ['accuracy', 'Precision', 'Recall', 'AUC']\n",
        "})"
      ],
      "metadata": {
        "id": "-AuT7yHdQGmx"
      },
      "execution_count": 26,
      "outputs": []
    },
    {
      "cell_type": "code",
      "execution_count": null,
      "metadata": {
        "colab": {
          "base_uri": "https://localhost:8080/"
        },
        "id": "KkaMR-37k172",
        "outputId": "0b6b2e4a-fbb2-4a00-e5f5-6def44332c80"
      },
      "outputs": [
        {
          "output_type": "stream",
          "name": "stdout",
          "text": [
            "Epoch 1/20\n",
            " 119/3492 [>.............................] - ETA: 9:27 - loss: 2.7739 - branch1_output_loss: 0.8748 - branch2_output_loss: 0.9938 - branch3_output_loss: 0.9053 - branch1_output_accuracy: 0.7282 - branch1_output_precision: 0.8380 - branch1_output_recall: 0.3451 - branch1_output_auc: 0.8422 - branch2_output_accuracy: 0.5748 - branch2_output_precision_1: 0.6898 - branch2_output_recall_1: 0.1928 - branch2_output_auc_1: 0.7191 - branch3_output_accuracy: 0.6610 - branch3_output_precision_2: 0.8202 - branch3_output_recall_2: 0.3629 - branch3_output_auc_2: 0.7925"
          ]
        }
      ],
      "source": [
        "#Train the model\n",
        "history = model.fit(train_X, [train_labels[:, 0, :], train_labels[:, 1, :], train_labels[:, 2, :]],\\\n",
        "                    epochs=epochs, batch_size=batch_size, \\\n",
        "                    validation_data=(val_X, [val_labels[:, 0, :], val_labels[:, 1, :], val_labels[:, 2, :]]), callbacks=[callback])"
      ]
    },
    {
      "cell_type": "code",
      "source": [
        "# Save the model\n",
        "model.save('/content/drive/MyDrive/03_10_Stock_Price_Prediction/Saved_Models/' + 'model_03_27' +\\\n",
        "           str(experimentNum) + '.h5')\n",
        "# model.save('model_03_24' + str(experimentNum) + '.h5')\n",
        "print(model.evaluate(test_X, [test_labels[:, 0, :], test_labels[:, 1, :], test_labels[:, 2, :]]))"
      ],
      "metadata": {
        "id": "KVtZhO4LTZ4D"
      },
      "execution_count": null,
      "outputs": []
    },
    {
      "cell_type": "code",
      "source": [
        "# Model Test\n",
        "tmp = model.predict(test_X)\n",
        "classes = []\n",
        "for i in range(3):\n",
        "    classes.append(i + 1)\n",
        "\n",
        "# Define the confusion matrix visuaslization function\n",
        "def show_confusion_matrix(y_true, y_pred, classes=classes):\n",
        "    from sklearn.metrics import confusion_matrix\n",
        "    \n",
        "    cm = confusion_matrix(y_true, y_pred, normalize='pred')\n",
        "\n",
        "    plt.figure(figsize=(8, 8))\n",
        "    sp = plt.subplot(1, 1, 1)\n",
        "    ctx = sp.matshow(cm)\n",
        "    plt.xticks(list(range(0, 3)), labels=classes,rotation = 90)\n",
        "    plt.yticks(list(range(0, 3)), labels=classes)\n",
        "    plt.colorbar(ctx)\n",
        "    plt.show()\n",
        "\n",
        "# Iterate through all the models and show the confusion matrix\n",
        "for i in range(3):\n",
        "    pred_y = np.argmax(tmp[i], axis=1)\n",
        "    show_confusion_matrix(test_y[:, i], pred_y)"
      ],
      "metadata": {
        "id": "G-6kJi3YtNuT"
      },
      "execution_count": null,
      "outputs": []
    },
    {
      "cell_type": "code",
      "source": [],
      "metadata": {
        "id": "jLmGhaS2tOoj"
      },
      "execution_count": null,
      "outputs": []
    }
  ],
  "metadata": {
    "accelerator": "GPU",
    "colab": {
      "provenance": []
    },
    "gpuClass": "standard",
    "kernelspec": {
      "display_name": "env_3_7_8",
      "language": "python",
      "name": "python3"
    },
    "language_info": {
      "codemirror_mode": {
        "name": "ipython",
        "version": 3
      },
      "file_extension": ".py",
      "mimetype": "text/x-python",
      "name": "python",
      "nbconvert_exporter": "python",
      "pygments_lexer": "ipython3",
      "version": "3.7.16"
    }
  },
  "nbformat": 4,
  "nbformat_minor": 0
}